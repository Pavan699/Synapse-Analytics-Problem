{
  "cells": [
    {
      "cell_type": "code",
      "source": [
        "%%pyspark\n",
        "blob_account_name = \"pavan0699\"\n",
        "blob_container_name = \"synapsedemo\"\n",
        "from pyspark.sql import SparkSession\n",
        "\n",
        "sc = SparkSession.builder.getOrCreate()\n",
        "token_library = sc._jvm.com.microsoft.azure.synapse.tokenlibrary.TokenLibrary\n",
        "blob_sas_token = token_library.getConnectionString(\"LinkedServiceForTrial\")\n",
        "\n",
        "spark.conf.set(\n",
        "    'fs.azure.sas.%s.%s.blob.core.windows.net' % (blob_container_name, blob_account_name),\n",
        "    blob_sas_token)\n",
        "df = spark.read.load('wasbs://synapsedemo@pavan0699.blob.core.windows.net/supermarket_sales - Sheet1.csv', format='csv'\n",
        "## If header exists uncomment line below\n",
        ", header=True\n",
        ")\n",
        "display(df.limit(10))"
      ],
      "outputs": [
        {
          "output_type": "display_data",
          "data": {
            "application/vnd.livy.statement-meta+json": {
              "spark_pool": "SparkPoolTool",
              "session_id": 6,
              "statement_id": 1,
              "state": "finished",
              "livy_statement_state": "available",
              "queued_time": "2022-01-21T10:39:31.2724105Z",
              "session_start_time": "2022-01-21T10:39:31.3067816Z",
              "execution_start_time": "2022-01-21T10:42:14.2903793Z",
              "execution_finish_time": "2022-01-21T10:42:38.3537128Z"
            },
            "text/plain": "StatementMeta(SparkPoolTool, 6, 1, Finished, Available)"
          },
          "metadata": {}
        },
        {
          "output_type": "display_data",
          "data": {
            "application/vnd.synapse.widget-view+json": {
              "widget_id": "c97ebb00-45f6-4c71-acd6-0b0daec99c0b",
              "widget_type": "Synapse.DataFrame"
            },
            "text/plain": "SynapseWidget(Synapse.DataFrame, c97ebb00-45f6-4c71-acd6-0b0daec99c0b)"
          },
          "metadata": {}
        }
      ],
      "execution_count": 1,
      "metadata": {
        "microsoft": {
          "language": "python"
        },
        "collapsed": false
      }
    },
    {
      "cell_type": "code",
      "source": [
        "df.count()"
      ],
      "outputs": [
        {
          "output_type": "display_data",
          "data": {
            "application/vnd.livy.statement-meta+json": {
              "spark_pool": "SparkPoolTool",
              "session_id": 6,
              "statement_id": 2,
              "state": "finished",
              "livy_statement_state": "available",
              "queued_time": "2022-01-21T10:43:27.6236398Z",
              "session_start_time": null,
              "execution_start_time": "2022-01-21T10:43:27.7333073Z",
              "execution_finish_time": "2022-01-21T10:43:30.5120428Z"
            },
            "text/plain": "StatementMeta(SparkPoolTool, 6, 2, Finished, Available)"
          },
          "metadata": {}
        },
        {
          "output_type": "display_data",
          "data": {
            "text/plain": "1000"
          },
          "metadata": {}
        }
      ],
      "execution_count": 2,
      "metadata": {
        "jupyter": {
          "source_hidden": false,
          "outputs_hidden": false
        },
        "nteract": {
          "transient": {
            "deleting": false
          }
        }
      }
    },
    {
      "cell_type": "code",
      "source": [
        "df1=df.select(\"Branch\",\"City\",\"Customer type\",\"Gender\",\"Product line\",\"Unit price\")\r\n",
        "display(df1.limit(100))"
      ],
      "outputs": [
        {
          "output_type": "display_data",
          "data": {
            "application/vnd.livy.statement-meta+json": {
              "spark_pool": "SparkPoolTool",
              "session_id": 6,
              "statement_id": 5,
              "state": "finished",
              "livy_statement_state": "available",
              "queued_time": "2022-01-21T10:44:20.7801116Z",
              "session_start_time": null,
              "execution_start_time": "2022-01-21T10:44:20.9181783Z",
              "execution_finish_time": "2022-01-21T10:44:21.9609043Z"
            },
            "text/plain": "StatementMeta(SparkPoolTool, 6, 5, Finished, Available)"
          },
          "metadata": {}
        },
        {
          "output_type": "display_data",
          "data": {
            "application/vnd.synapse.widget-view+json": {
              "widget_id": "78f0e14a-7b65-4e9d-86b3-1aa711c415c3",
              "widget_type": "Synapse.DataFrame"
            },
            "text/plain": "SynapseWidget(Synapse.DataFrame, 78f0e14a-7b65-4e9d-86b3-1aa711c415c3)"
          },
          "metadata": {}
        }
      ],
      "execution_count": 5,
      "metadata": {
        "jupyter": {
          "source_hidden": false,
          "outputs_hidden": false
        },
        "nteract": {
          "transient": {
            "deleting": false
          }
        },
        "collapsed": false
      }
    },
    {
      "cell_type": "code",
      "source": [
        "df1.describe().show()"
      ],
      "outputs": [
        {
          "output_type": "display_data",
          "data": {
            "application/vnd.livy.statement-meta+json": {
              "spark_pool": "SparkPoolTool",
              "session_id": 6,
              "statement_id": 10,
              "state": "finished",
              "livy_statement_state": "available",
              "queued_time": "2022-01-21T10:48:51.8428937Z",
              "session_start_time": null,
              "execution_start_time": "2022-01-21T10:48:51.9352891Z",
              "execution_finish_time": "2022-01-21T10:48:54.7179735Z"
            },
            "text/plain": "StatementMeta(SparkPoolTool, 6, 10, Finished, Available)"
          },
          "metadata": {}
        },
        {
          "output_type": "stream",
          "name": "stdout",
          "text": [
            "+-------+------+--------+-------------+------+--------------------+------------------+\n|summary|Branch|    City|Customer type|Gender|        Product line|        Unit price|\n+-------+------+--------+-------------+------+--------------------+------------------+\n|  count|  1000|    1000|         1000|  1000|                1000|              1000|\n|   mean|  null|    null|         null|  null|                null| 55.67212999999998|\n| stddev|  null|    null|         null|  null|                null|26.494628347919786|\n|    min|     A|Mandalay|       Member|Female|Electronic access...|             10.08|\n|    max|     C|  Yangon|       Normal|  Male|   Sports and travel|             99.96|\n+-------+------+--------+-------------+------+--------------------+------------------+"
          ]
        }
      ],
      "execution_count": 10,
      "metadata": {
        "jupyter": {
          "source_hidden": false,
          "outputs_hidden": false
        },
        "nteract": {
          "transient": {
            "deleting": false
          }
        }
      }
    },
    {
      "cell_type": "code",
      "source": [
        "df1.agg({\"Unit price\":\"max\"}).show()"
      ],
      "outputs": [
        {
          "output_type": "display_data",
          "data": {
            "application/vnd.livy.statement-meta+json": {
              "spark_pool": "SparkPoolTool",
              "session_id": 6,
              "statement_id": 11,
              "state": "finished",
              "livy_statement_state": "available",
              "queued_time": "2022-01-21T10:49:48.8118097Z",
              "session_start_time": null,
              "execution_start_time": "2022-01-21T10:49:48.9221034Z",
              "execution_finish_time": "2022-01-21T10:49:49.4667105Z"
            },
            "text/plain": "StatementMeta(SparkPoolTool, 6, 11, Finished, Available)"
          },
          "metadata": {}
        },
        {
          "output_type": "stream",
          "name": "stdout",
          "text": [
            "+---------------+\n|max(Unit price)|\n+---------------+\n|          99.96|\n+---------------+"
          ]
        }
      ],
      "execution_count": 11,
      "metadata": {
        "jupyter": {
          "source_hidden": false,
          "outputs_hidden": false
        },
        "nteract": {
          "transient": {
            "deleting": false
          }
        }
      }
    },
    {
      "cell_type": "code",
      "source": [
        "df1.printSchema()"
      ],
      "outputs": [
        {
          "output_type": "display_data",
          "data": {
            "application/vnd.livy.statement-meta+json": {
              "spark_pool": "SparkPoolTool",
              "session_id": 6,
              "statement_id": 12,
              "state": "finished",
              "livy_statement_state": "available",
              "queued_time": "2022-01-21T10:50:07.0323774Z",
              "session_start_time": null,
              "execution_start_time": "2022-01-21T10:50:07.1258574Z",
              "execution_finish_time": "2022-01-21T10:50:07.2690897Z"
            },
            "text/plain": "StatementMeta(SparkPoolTool, 6, 12, Finished, Available)"
          },
          "metadata": {}
        },
        {
          "output_type": "stream",
          "name": "stdout",
          "text": [
            "root\n |-- Branch: string (nullable = true)\n |-- City: string (nullable = true)\n |-- Customer type: string (nullable = true)\n |-- Gender: string (nullable = true)\n |-- Product line: string (nullable = true)\n |-- Unit price: string (nullable = true)"
          ]
        }
      ],
      "execution_count": 12,
      "metadata": {
        "jupyter": {
          "source_hidden": false,
          "outputs_hidden": false
        },
        "nteract": {
          "transient": {
            "deleting": false
          }
        }
      }
    },
    {
      "cell_type": "code",
      "source": [
        "df.printSchema()"
      ],
      "outputs": [
        {
          "output_type": "display_data",
          "data": {
            "application/vnd.livy.statement-meta+json": {
              "spark_pool": "SparkPoolTool",
              "session_id": 6,
              "statement_id": 13,
              "state": "finished",
              "livy_statement_state": "available",
              "queued_time": "2022-01-21T10:50:26.5674262Z",
              "session_start_time": null,
              "execution_start_time": "2022-01-21T10:50:26.6606547Z",
              "execution_finish_time": "2022-01-21T10:50:26.8193074Z"
            },
            "text/plain": "StatementMeta(SparkPoolTool, 6, 13, Finished, Available)"
          },
          "metadata": {}
        },
        {
          "output_type": "stream",
          "name": "stdout",
          "text": [
            "root\n |-- Invoice ID: string (nullable = true)\n |-- Branch: string (nullable = true)\n |-- City: string (nullable = true)\n |-- Customer type: string (nullable = true)\n |-- Gender: string (nullable = true)\n |-- Product line: string (nullable = true)\n |-- Unit price: string (nullable = true)\n |-- Quantity: string (nullable = true)\n |-- Tax 5%: string (nullable = true)\n |-- Total: string (nullable = true)\n |-- Date: string (nullable = true)\n |-- Time: string (nullable = true)\n |-- Payment: string (nullable = true)\n |-- cogs: string (nullable = true)\n |-- gross margin percentage: string (nullable = true)\n |-- gross income: string (nullable = true)\n |-- Rating: string (nullable = true)"
          ]
        }
      ],
      "execution_count": 13,
      "metadata": {
        "jupyter": {
          "source_hidden": false,
          "outputs_hidden": false
        },
        "nteract": {
          "transient": {
            "deleting": false
          }
        }
      }
    }
  ],
  "metadata": {
    "language_info": {
      "name": "python"
    },
    "kernelspec": {
      "name": "synapse_pyspark",
      "language": "Python",
      "display_name": "Synapse PySpark"
    },
    "kernel_info": {
      "name": "synapse_pyspark"
    },
    "save_output": true,
    "synapse_widget": {
      "version": "0.1",
      "state": {
        "c97ebb00-45f6-4c71-acd6-0b0daec99c0b": {
          "type": "Synapse.DataFrame",
          "sync_state": {
            "table": {
              "rows": [
                {
                  "0": "750-67-8428",
                  "1": "A",
                  "2": "Yangon",
                  "3": "Member",
                  "4": "Female",
                  "5": "Health and beauty",
                  "6": "74.69",
                  "7": "7",
                  "8": "26.1415",
                  "9": "548.9715",
                  "10": "1/5/2019",
                  "11": "13:08",
                  "12": "Ewallet",
                  "13": "522.83",
                  "14": "4.761904762",
                  "15": "26.1415",
                  "16": "9.1"
                },
                {
                  "0": "226-31-3081",
                  "1": "C",
                  "2": "Naypyitaw",
                  "3": "Normal",
                  "4": "Female",
                  "5": "Electronic accessories",
                  "6": "15.28",
                  "7": "5",
                  "8": "3.82",
                  "9": "80.22",
                  "10": "3/8/2019",
                  "11": "10:29",
                  "12": "Cash",
                  "13": "76.4",
                  "14": "4.761904762",
                  "15": "3.82",
                  "16": "9.6"
                },
                {
                  "0": "631-41-3108",
                  "1": "A",
                  "2": "Yangon",
                  "3": "Normal",
                  "4": "Male",
                  "5": "Home and lifestyle",
                  "6": "46.33",
                  "7": "7",
                  "8": "16.2155",
                  "9": "340.5255",
                  "10": "3/3/2019",
                  "11": "13:23",
                  "12": "Credit card",
                  "13": "324.31",
                  "14": "4.761904762",
                  "15": "16.2155",
                  "16": "7.4"
                },
                {
                  "0": "123-19-1176",
                  "1": "A",
                  "2": "Yangon",
                  "3": "Member",
                  "4": "Male",
                  "5": "Health and beauty",
                  "6": "58.22",
                  "7": "8",
                  "8": "23.288",
                  "9": "489.048",
                  "10": "1/27/2019",
                  "11": "20:33",
                  "12": "Ewallet",
                  "13": "465.76",
                  "14": "4.761904762",
                  "15": "23.288",
                  "16": "8.4"
                },
                {
                  "0": "373-73-7910",
                  "1": "A",
                  "2": "Yangon",
                  "3": "Normal",
                  "4": "Male",
                  "5": "Sports and travel",
                  "6": "86.31",
                  "7": "7",
                  "8": "30.2085",
                  "9": "634.3785",
                  "10": "2/8/2019",
                  "11": "10:37",
                  "12": "Ewallet",
                  "13": "604.17",
                  "14": "4.761904762",
                  "15": "30.2085",
                  "16": "5.3"
                },
                {
                  "0": "699-14-3026",
                  "1": "C",
                  "2": "Naypyitaw",
                  "3": "Normal",
                  "4": "Male",
                  "5": "Electronic accessories",
                  "6": "85.39",
                  "7": "7",
                  "8": "29.8865",
                  "9": "627.6165",
                  "10": "3/25/2019",
                  "11": "18:30",
                  "12": "Ewallet",
                  "13": "597.73",
                  "14": "4.761904762",
                  "15": "29.8865",
                  "16": "4.1"
                },
                {
                  "0": "355-53-5943",
                  "1": "A",
                  "2": "Yangon",
                  "3": "Member",
                  "4": "Female",
                  "5": "Electronic accessories",
                  "6": "68.84",
                  "7": "6",
                  "8": "20.652",
                  "9": "433.692",
                  "10": "2/25/2019",
                  "11": "14:36",
                  "12": "Ewallet",
                  "13": "413.04",
                  "14": "4.761904762",
                  "15": "20.652",
                  "16": "5.8"
                },
                {
                  "0": "315-22-5665",
                  "1": "C",
                  "2": "Naypyitaw",
                  "3": "Normal",
                  "4": "Female",
                  "5": "Home and lifestyle",
                  "6": "73.56",
                  "7": "10",
                  "8": "36.78",
                  "9": "772.38",
                  "10": "2/24/2019",
                  "11": "11:38",
                  "12": "Ewallet",
                  "13": "735.6",
                  "14": "4.761904762",
                  "15": "36.78",
                  "16": "8"
                },
                {
                  "0": "665-32-9167",
                  "1": "A",
                  "2": "Yangon",
                  "3": "Member",
                  "4": "Female",
                  "5": "Health and beauty",
                  "6": "36.26",
                  "7": "2",
                  "8": "3.626",
                  "9": "76.146",
                  "10": "1/10/2019",
                  "11": "17:15",
                  "12": "Credit card",
                  "13": "72.52",
                  "14": "4.761904762",
                  "15": "3.626",
                  "16": "7.2"
                },
                {
                  "0": "692-92-5582",
                  "1": "B",
                  "2": "Mandalay",
                  "3": "Member",
                  "4": "Female",
                  "5": "Food and beverages",
                  "6": "54.84",
                  "7": "3",
                  "8": "8.226",
                  "9": "172.746",
                  "10": "2/20/2019",
                  "11": "13:27",
                  "12": "Credit card",
                  "13": "164.52",
                  "14": "4.761904762",
                  "15": "8.226",
                  "16": "5.9"
                }
              ],
              "schema": [
                {
                  "key": "0",
                  "name": "Invoice ID",
                  "type": "string"
                },
                {
                  "key": "1",
                  "name": "Branch",
                  "type": "string"
                },
                {
                  "key": "2",
                  "name": "City",
                  "type": "string"
                },
                {
                  "key": "3",
                  "name": "Customer type",
                  "type": "string"
                },
                {
                  "key": "4",
                  "name": "Gender",
                  "type": "string"
                },
                {
                  "key": "5",
                  "name": "Product line",
                  "type": "string"
                },
                {
                  "key": "6",
                  "name": "Unit price",
                  "type": "string"
                },
                {
                  "key": "7",
                  "name": "Quantity",
                  "type": "string"
                },
                {
                  "key": "8",
                  "name": "Tax 5%",
                  "type": "string"
                },
                {
                  "key": "9",
                  "name": "Total",
                  "type": "string"
                },
                {
                  "key": "10",
                  "name": "Date",
                  "type": "string"
                },
                {
                  "key": "11",
                  "name": "Time",
                  "type": "string"
                },
                {
                  "key": "12",
                  "name": "Payment",
                  "type": "string"
                },
                {
                  "key": "13",
                  "name": "cogs",
                  "type": "string"
                },
                {
                  "key": "14",
                  "name": "gross margin percentage",
                  "type": "string"
                },
                {
                  "key": "15",
                  "name": "gross income",
                  "type": "string"
                },
                {
                  "key": "16",
                  "name": "Rating",
                  "type": "string"
                }
              ],
              "truncated": false
            },
            "isSummary": false,
            "language": "scala"
          },
          "persist_state": {
            "view": {
              "type": "details",
              "tableOptions": {},
              "chartOptions": {
                "chartType": "bar",
                "aggregationType": "count",
                "categoryFieldKeys": [
                  "0"
                ],
                "seriesFieldKeys": [
                  "0"
                ],
                "isStacked": false
              }
            }
          }
        },
        "78f0e14a-7b65-4e9d-86b3-1aa711c415c3": {
          "type": "Synapse.DataFrame",
          "sync_state": {
            "table": {
              "rows": [
                {
                  "0": "A",
                  "1": "Yangon",
                  "2": "Member",
                  "3": "Female",
                  "4": "Health and beauty",
                  "5": "74.69"
                },
                {
                  "0": "C",
                  "1": "Naypyitaw",
                  "2": "Normal",
                  "3": "Female",
                  "4": "Electronic accessories",
                  "5": "15.28"
                },
                {
                  "0": "A",
                  "1": "Yangon",
                  "2": "Normal",
                  "3": "Male",
                  "4": "Home and lifestyle",
                  "5": "46.33"
                },
                {
                  "0": "A",
                  "1": "Yangon",
                  "2": "Member",
                  "3": "Male",
                  "4": "Health and beauty",
                  "5": "58.22"
                },
                {
                  "0": "A",
                  "1": "Yangon",
                  "2": "Normal",
                  "3": "Male",
                  "4": "Sports and travel",
                  "5": "86.31"
                },
                {
                  "0": "C",
                  "1": "Naypyitaw",
                  "2": "Normal",
                  "3": "Male",
                  "4": "Electronic accessories",
                  "5": "85.39"
                },
                {
                  "0": "A",
                  "1": "Yangon",
                  "2": "Member",
                  "3": "Female",
                  "4": "Electronic accessories",
                  "5": "68.84"
                },
                {
                  "0": "C",
                  "1": "Naypyitaw",
                  "2": "Normal",
                  "3": "Female",
                  "4": "Home and lifestyle",
                  "5": "73.56"
                },
                {
                  "0": "A",
                  "1": "Yangon",
                  "2": "Member",
                  "3": "Female",
                  "4": "Health and beauty",
                  "5": "36.26"
                },
                {
                  "0": "B",
                  "1": "Mandalay",
                  "2": "Member",
                  "3": "Female",
                  "4": "Food and beverages",
                  "5": "54.84"
                },
                {
                  "0": "B",
                  "1": "Mandalay",
                  "2": "Member",
                  "3": "Female",
                  "4": "Fashion accessories",
                  "5": "14.48"
                },
                {
                  "0": "B",
                  "1": "Mandalay",
                  "2": "Member",
                  "3": "Male",
                  "4": "Electronic accessories",
                  "5": "25.51"
                },
                {
                  "0": "A",
                  "1": "Yangon",
                  "2": "Normal",
                  "3": "Female",
                  "4": "Electronic accessories",
                  "5": "46.95"
                },
                {
                  "0": "A",
                  "1": "Yangon",
                  "2": "Normal",
                  "3": "Male",
                  "4": "Food and beverages",
                  "5": "43.19"
                },
                {
                  "0": "A",
                  "1": "Yangon",
                  "2": "Normal",
                  "3": "Female",
                  "4": "Health and beauty",
                  "5": "71.38"
                },
                {
                  "0": "B",
                  "1": "Mandalay",
                  "2": "Member",
                  "3": "Female",
                  "4": "Sports and travel",
                  "5": "93.72"
                },
                {
                  "0": "A",
                  "1": "Yangon",
                  "2": "Member",
                  "3": "Female",
                  "4": "Health and beauty",
                  "5": "68.93"
                },
                {
                  "0": "A",
                  "1": "Yangon",
                  "2": "Normal",
                  "3": "Male",
                  "4": "Sports and travel",
                  "5": "72.61"
                },
                {
                  "0": "A",
                  "1": "Yangon",
                  "2": "Normal",
                  "3": "Male",
                  "4": "Food and beverages",
                  "5": "54.67"
                },
                {
                  "0": "B",
                  "1": "Mandalay",
                  "2": "Normal",
                  "3": "Female",
                  "4": "Home and lifestyle",
                  "5": "40.3"
                },
                {
                  "0": "C",
                  "1": "Naypyitaw",
                  "2": "Member",
                  "3": "Male",
                  "4": "Electronic accessories",
                  "5": "86.04"
                },
                {
                  "0": "B",
                  "1": "Mandalay",
                  "2": "Normal",
                  "3": "Male",
                  "4": "Health and beauty",
                  "5": "87.98"
                },
                {
                  "0": "B",
                  "1": "Mandalay",
                  "2": "Normal",
                  "3": "Male",
                  "4": "Home and lifestyle",
                  "5": "33.2"
                },
                {
                  "0": "A",
                  "1": "Yangon",
                  "2": "Normal",
                  "3": "Male",
                  "4": "Electronic accessories",
                  "5": "34.56"
                },
                {
                  "0": "A",
                  "1": "Yangon",
                  "2": "Member",
                  "3": "Male",
                  "4": "Sports and travel",
                  "5": "88.63"
                },
                {
                  "0": "A",
                  "1": "Yangon",
                  "2": "Member",
                  "3": "Female",
                  "4": "Home and lifestyle",
                  "5": "52.59"
                },
                {
                  "0": "B",
                  "1": "Mandalay",
                  "2": "Normal",
                  "3": "Male",
                  "4": "Fashion accessories",
                  "5": "33.52"
                },
                {
                  "0": "A",
                  "1": "Yangon",
                  "2": "Normal",
                  "3": "Female",
                  "4": "Fashion accessories",
                  "5": "87.67"
                },
                {
                  "0": "B",
                  "1": "Mandalay",
                  "2": "Normal",
                  "3": "Female",
                  "4": "Food and beverages",
                  "5": "88.36"
                },
                {
                  "0": "A",
                  "1": "Yangon",
                  "2": "Normal",
                  "3": "Male",
                  "4": "Health and beauty",
                  "5": "24.89"
                },
                {
                  "0": "B",
                  "1": "Mandalay",
                  "2": "Normal",
                  "3": "Male",
                  "4": "Fashion accessories",
                  "5": "94.13"
                },
                {
                  "0": "B",
                  "1": "Mandalay",
                  "2": "Member",
                  "3": "Male",
                  "4": "Sports and travel",
                  "5": "78.07"
                },
                {
                  "0": "B",
                  "1": "Mandalay",
                  "2": "Normal",
                  "3": "Male",
                  "4": "Sports and travel",
                  "5": "83.78"
                },
                {
                  "0": "A",
                  "1": "Yangon",
                  "2": "Normal",
                  "3": "Male",
                  "4": "Health and beauty",
                  "5": "96.58"
                },
                {
                  "0": "C",
                  "1": "Naypyitaw",
                  "2": "Member",
                  "3": "Female",
                  "4": "Food and beverages",
                  "5": "99.42"
                },
                {
                  "0": "C",
                  "1": "Naypyitaw",
                  "2": "Member",
                  "3": "Female",
                  "4": "Sports and travel",
                  "5": "68.12"
                },
                {
                  "0": "A",
                  "1": "Yangon",
                  "2": "Member",
                  "3": "Male",
                  "4": "Sports and travel",
                  "5": "62.62"
                },
                {
                  "0": "A",
                  "1": "Yangon",
                  "2": "Normal",
                  "3": "Female",
                  "4": "Electronic accessories",
                  "5": "60.88"
                },
                {
                  "0": "C",
                  "1": "Naypyitaw",
                  "2": "Normal",
                  "3": "Female",
                  "4": "Health and beauty",
                  "5": "54.92"
                },
                {
                  "0": "B",
                  "1": "Mandalay",
                  "2": "Member",
                  "3": "Male",
                  "4": "Home and lifestyle",
                  "5": "30.12"
                },
                {
                  "0": "B",
                  "1": "Mandalay",
                  "2": "Member",
                  "3": "Female",
                  "4": "Home and lifestyle",
                  "5": "86.72"
                },
                {
                  "0": "C",
                  "1": "Naypyitaw",
                  "2": "Member",
                  "3": "Male",
                  "4": "Home and lifestyle",
                  "5": "56.11"
                },
                {
                  "0": "B",
                  "1": "Mandalay",
                  "2": "Member",
                  "3": "Female",
                  "4": "Sports and travel",
                  "5": "69.12"
                },
                {
                  "0": "C",
                  "1": "Naypyitaw",
                  "2": "Member",
                  "3": "Female",
                  "4": "Food and beverages",
                  "5": "98.7"
                },
                {
                  "0": "C",
                  "1": "Naypyitaw",
                  "2": "Member",
                  "3": "Male",
                  "4": "Health and beauty",
                  "5": "15.37"
                },
                {
                  "0": "B",
                  "1": "Mandalay",
                  "2": "Member",
                  "3": "Female",
                  "4": "Electronic accessories",
                  "5": "93.96"
                },
                {
                  "0": "B",
                  "1": "Mandalay",
                  "2": "Member",
                  "3": "Male",
                  "4": "Health and beauty",
                  "5": "56.69"
                },
                {
                  "0": "B",
                  "1": "Mandalay",
                  "2": "Member",
                  "3": "Female",
                  "4": "Food and beverages",
                  "5": "20.01"
                },
                {
                  "0": "B",
                  "1": "Mandalay",
                  "2": "Member",
                  "3": "Male",
                  "4": "Electronic accessories",
                  "5": "18.93"
                },
                {
                  "0": "C",
                  "1": "Naypyitaw",
                  "2": "Member",
                  "3": "Female",
                  "4": "Fashion accessories",
                  "5": "82.63"
                },
                {
                  "0": "C",
                  "1": "Naypyitaw",
                  "2": "Member",
                  "3": "Male",
                  "4": "Food and beverages",
                  "5": "91.4"
                },
                {
                  "0": "A",
                  "1": "Yangon",
                  "2": "Member",
                  "3": "Female",
                  "4": "Food and beverages",
                  "5": "44.59"
                },
                {
                  "0": "B",
                  "1": "Mandalay",
                  "2": "Member",
                  "3": "Female",
                  "4": "Fashion accessories",
                  "5": "17.87"
                },
                {
                  "0": "C",
                  "1": "Naypyitaw",
                  "2": "Member",
                  "3": "Male",
                  "4": "Fashion accessories",
                  "5": "15.43"
                },
                {
                  "0": "B",
                  "1": "Mandalay",
                  "2": "Normal",
                  "3": "Male",
                  "4": "Home and lifestyle",
                  "5": "16.16"
                },
                {
                  "0": "C",
                  "1": "Naypyitaw",
                  "2": "Normal",
                  "3": "Female",
                  "4": "Electronic accessories",
                  "5": "85.98"
                },
                {
                  "0": "A",
                  "1": "Yangon",
                  "2": "Member",
                  "3": "Male",
                  "4": "Home and lifestyle",
                  "5": "44.34"
                },
                {
                  "0": "A",
                  "1": "Yangon",
                  "2": "Normal",
                  "3": "Male",
                  "4": "Health and beauty",
                  "5": "89.6"
                },
                {
                  "0": "A",
                  "1": "Yangon",
                  "2": "Member",
                  "3": "Female",
                  "4": "Home and lifestyle",
                  "5": "72.35"
                },
                {
                  "0": "C",
                  "1": "Naypyitaw",
                  "2": "Normal",
                  "3": "Male",
                  "4": "Electronic accessories",
                  "5": "30.61"
                },
                {
                  "0": "C",
                  "1": "Naypyitaw",
                  "2": "Member",
                  "3": "Female",
                  "4": "Sports and travel",
                  "5": "24.74"
                },
                {
                  "0": "C",
                  "1": "Naypyitaw",
                  "2": "Normal",
                  "3": "Male",
                  "4": "Home and lifestyle",
                  "5": "55.73"
                },
                {
                  "0": "B",
                  "1": "Mandalay",
                  "2": "Member",
                  "3": "Female",
                  "4": "Sports and travel",
                  "5": "55.07"
                },
                {
                  "0": "A",
                  "1": "Yangon",
                  "2": "Member",
                  "3": "Male",
                  "4": "Sports and travel",
                  "5": "15.81"
                },
                {
                  "0": "B",
                  "1": "Mandalay",
                  "2": "Member",
                  "3": "Male",
                  "4": "Health and beauty",
                  "5": "75.74"
                },
                {
                  "0": "A",
                  "1": "Yangon",
                  "2": "Member",
                  "3": "Male",
                  "4": "Health and beauty",
                  "5": "15.87"
                },
                {
                  "0": "C",
                  "1": "Naypyitaw",
                  "2": "Normal",
                  "3": "Female",
                  "4": "Health and beauty",
                  "5": "33.47"
                },
                {
                  "0": "B",
                  "1": "Mandalay",
                  "2": "Member",
                  "3": "Female",
                  "4": "Fashion accessories",
                  "5": "97.61"
                },
                {
                  "0": "A",
                  "1": "Yangon",
                  "2": "Normal",
                  "3": "Male",
                  "4": "Sports and travel",
                  "5": "78.77"
                },
                {
                  "0": "A",
                  "1": "Yangon",
                  "2": "Member",
                  "3": "Female",
                  "4": "Health and beauty",
                  "5": "18.33"
                },
                {
                  "0": "C",
                  "1": "Naypyitaw",
                  "2": "Normal",
                  "3": "Male",
                  "4": "Food and beverages",
                  "5": "89.48"
                },
                {
                  "0": "C",
                  "1": "Naypyitaw",
                  "2": "Normal",
                  "3": "Male",
                  "4": "Fashion accessories",
                  "5": "62.12"
                },
                {
                  "0": "B",
                  "1": "Mandalay",
                  "2": "Member",
                  "3": "Female",
                  "4": "Food and beverages",
                  "5": "48.52"
                },
                {
                  "0": "C",
                  "1": "Naypyitaw",
                  "2": "Normal",
                  "3": "Female",
                  "4": "Electronic accessories",
                  "5": "75.91"
                },
                {
                  "0": "A",
                  "1": "Yangon",
                  "2": "Normal",
                  "3": "Male",
                  "4": "Home and lifestyle",
                  "5": "74.67"
                },
                {
                  "0": "C",
                  "1": "Naypyitaw",
                  "2": "Normal",
                  "3": "Female",
                  "4": "Electronic accessories",
                  "5": "41.65"
                },
                {
                  "0": "C",
                  "1": "Naypyitaw",
                  "2": "Member",
                  "3": "Male",
                  "4": "Fashion accessories",
                  "5": "49.04"
                },
                {
                  "0": "A",
                  "1": "Yangon",
                  "2": "Member",
                  "3": "Female",
                  "4": "Fashion accessories",
                  "5": "20.01"
                },
                {
                  "0": "C",
                  "1": "Naypyitaw",
                  "2": "Member",
                  "3": "Female",
                  "4": "Food and beverages",
                  "5": "78.31"
                },
                {
                  "0": "C",
                  "1": "Naypyitaw",
                  "2": "Normal",
                  "3": "Female",
                  "4": "Health and beauty",
                  "5": "20.38"
                },
                {
                  "0": "C",
                  "1": "Naypyitaw",
                  "2": "Normal",
                  "3": "Female",
                  "4": "Health and beauty",
                  "5": "99.19"
                },
                {
                  "0": "B",
                  "1": "Mandalay",
                  "2": "Normal",
                  "3": "Female",
                  "4": "Food and beverages",
                  "5": "96.68"
                },
                {
                  "0": "C",
                  "1": "Naypyitaw",
                  "2": "Normal",
                  "3": "Male",
                  "4": "Food and beverages",
                  "5": "19.25"
                },
                {
                  "0": "C",
                  "1": "Naypyitaw",
                  "2": "Member",
                  "3": "Female",
                  "4": "Food and beverages",
                  "5": "80.36"
                },
                {
                  "0": "C",
                  "1": "Naypyitaw",
                  "2": "Member",
                  "3": "Male",
                  "4": "Sports and travel",
                  "5": "48.91"
                },
                {
                  "0": "C",
                  "1": "Naypyitaw",
                  "2": "Normal",
                  "3": "Female",
                  "4": "Sports and travel",
                  "5": "83.06"
                },
                {
                  "0": "C",
                  "1": "Naypyitaw",
                  "2": "Normal",
                  "3": "Male",
                  "4": "Fashion accessories",
                  "5": "76.52"
                },
                {
                  "0": "A",
                  "1": "Yangon",
                  "2": "Member",
                  "3": "Male",
                  "4": "Food and beverages",
                  "5": "49.38"
                },
                {
                  "0": "A",
                  "1": "Yangon",
                  "2": "Normal",
                  "3": "Male",
                  "4": "Sports and travel",
                  "5": "42.47"
                },
                {
                  "0": "B",
                  "1": "Mandalay",
                  "2": "Normal",
                  "3": "Female",
                  "4": "Health and beauty",
                  "5": "76.99"
                },
                {
                  "0": "C",
                  "1": "Naypyitaw",
                  "2": "Member",
                  "3": "Female",
                  "4": "Home and lifestyle",
                  "5": "47.38"
                },
                {
                  "0": "C",
                  "1": "Naypyitaw",
                  "2": "Normal",
                  "3": "Female",
                  "4": "Sports and travel",
                  "5": "44.86"
                },
                {
                  "0": "A",
                  "1": "Yangon",
                  "2": "Member",
                  "3": "Female",
                  "4": "Sports and travel",
                  "5": "21.98"
                },
                {
                  "0": "B",
                  "1": "Mandalay",
                  "2": "Member",
                  "3": "Male",
                  "4": "Health and beauty",
                  "5": "64.36"
                },
                {
                  "0": "C",
                  "1": "Naypyitaw",
                  "2": "Normal",
                  "3": "Male",
                  "4": "Health and beauty",
                  "5": "89.75"
                },
                {
                  "0": "A",
                  "1": "Yangon",
                  "2": "Normal",
                  "3": "Male",
                  "4": "Electronic accessories",
                  "5": "97.16"
                },
                {
                  "0": "B",
                  "1": "Mandalay",
                  "2": "Normal",
                  "3": "Male",
                  "4": "Health and beauty",
                  "5": "87.87"
                },
                {
                  "0": "C",
                  "1": "Naypyitaw",
                  "2": "Normal",
                  "3": "Female",
                  "4": "Electronic accessories",
                  "5": "12.45"
                },
                {
                  "0": "A",
                  "1": "Yangon",
                  "2": "Normal",
                  "3": "Male",
                  "4": "Food and beverages",
                  "5": "52.75"
                },
                {
                  "0": "B",
                  "1": "Mandalay",
                  "2": "Normal",
                  "3": "Male",
                  "4": "Home and lifestyle",
                  "5": "82.7"
                }
              ],
              "schema": [
                {
                  "key": "0",
                  "name": "Branch",
                  "type": "string"
                },
                {
                  "key": "1",
                  "name": "City",
                  "type": "string"
                },
                {
                  "key": "2",
                  "name": "Customer type",
                  "type": "string"
                },
                {
                  "key": "3",
                  "name": "Gender",
                  "type": "string"
                },
                {
                  "key": "4",
                  "name": "Product line",
                  "type": "string"
                },
                {
                  "key": "5",
                  "name": "Unit price",
                  "type": "string"
                }
              ],
              "truncated": false
            },
            "isSummary": false,
            "language": "scala"
          },
          "persist_state": {
            "view": {
              "type": "details",
              "tableOptions": {},
              "chartOptions": {
                "chartType": "bar",
                "aggregationType": "count",
                "categoryFieldKeys": [
                  "0"
                ],
                "seriesFieldKeys": [
                  "0"
                ],
                "isStacked": false
              }
            }
          }
        }
      }
    }
  },
  "nbformat": 4,
  "nbformat_minor": 2
}