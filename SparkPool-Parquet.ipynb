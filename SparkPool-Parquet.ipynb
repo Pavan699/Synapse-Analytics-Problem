{
  "nbformat": 4,
  "nbformat_minor": 2,
  "metadata": {
    "kernelspec": {
      "name": "synapse_pyspark",
      "display_name": "Synapse PySpark"
    },
    "language_info": {
      "name": "python"
    },
    "description": null,
    "save_output": true,
    "synapse_widget": {
      "version": "0.1",
      "state": {
        "8fb2f9ec-914a-49f5-b5f0-2fe7c4aa1276": {
          "type": "Synapse.DataFrame",
          "sync_state": {
            "table": {
              "rows": [
                {
                  "0": "2016-02-03 07:55:29",
                  "1": "1",
                  "2": "Amanda",
                  "3": "Jordan",
                  "4": "ajordan0@com.com",
                  "5": "Female",
                  "6": "1.197.201.2",
                  "7": "6759521864920116",
                  "8": "Indonesia",
                  "9": "3/8/1971",
                  "10": "49756.53",
                  "11": "Internal Auditor",
                  "12": "1E+02"
                },
                {
                  "0": "2016-02-03 17:04:03",
                  "1": "2",
                  "2": "Albert",
                  "3": "Freeman",
                  "4": "afreeman1@is.gd",
                  "5": "Male",
                  "6": "218.111.175.34",
                  "7": "",
                  "8": "Canada",
                  "9": "1/16/1968",
                  "10": "150280.17",
                  "11": "Accountant IV",
                  "12": ""
                },
                {
                  "0": "2016-02-03 01:09:31",
                  "1": "3",
                  "2": "Evelyn",
                  "3": "Morgan",
                  "4": "emorgan2@altervista.org",
                  "5": "Female",
                  "6": "7.161.136.94",
                  "7": "6767119071901597",
                  "8": "Russia",
                  "9": "2/1/1960",
                  "10": "144972.51",
                  "11": "Structural Engineer",
                  "12": ""
                },
                {
                  "0": "2016-02-03 00:36:21",
                  "1": "4",
                  "2": "Denise",
                  "3": "Riley",
                  "4": "driley3@gmpg.org",
                  "5": "Female",
                  "6": "140.35.109.83",
                  "7": "3576031598965625",
                  "8": "China",
                  "9": "4/8/1997",
                  "10": "90263.05",
                  "11": "Senior Cost Accountant",
                  "12": ""
                },
                {
                  "0": "2016-02-03 05:05:31",
                  "1": "5",
                  "2": "Carlos",
                  "3": "Burns",
                  "4": "cburns4@miitbeian.gov.cn",
                  "5": "",
                  "6": "169.113.235.40",
                  "7": "5602256255204850",
                  "8": "South Africa",
                  "9": "",
                  "11": "",
                  "12": ""
                },
                {
                  "0": "2016-02-03 07:22:34",
                  "1": "6",
                  "2": "Kathryn",
                  "3": "White",
                  "4": "kwhite5@google.com",
                  "5": "Female",
                  "6": "195.131.81.179",
                  "7": "3583136326049310",
                  "8": "Indonesia",
                  "9": "2/25/1983",
                  "10": "69227.11",
                  "11": "Account Executive",
                  "12": ""
                },
                {
                  "0": "2016-02-03 08:33:08",
                  "1": "7",
                  "2": "Samuel",
                  "3": "Holmes",
                  "4": "sholmes6@foxnews.com",
                  "5": "Male",
                  "6": "232.234.81.197",
                  "7": "3582641366974690",
                  "8": "Portugal",
                  "9": "12/18/1987",
                  "10": "14247.62",
                  "11": "Senior Financial Analyst",
                  "12": ""
                },
                {
                  "0": "2016-02-03 06:47:06",
                  "1": "8",
                  "2": "Harry",
                  "3": "Howell",
                  "4": "hhowell7@eepurl.com",
                  "5": "Male",
                  "6": "91.235.51.73",
                  "7": "",
                  "8": "Bosnia and Herzegovina",
                  "9": "3/1/1962",
                  "10": "186469.43",
                  "11": "Web Developer IV",
                  "12": ""
                },
                {
                  "0": "2016-02-03 03:52:53",
                  "1": "9",
                  "2": "Jose",
                  "3": "Foster",
                  "4": "jfoster8@yelp.com",
                  "5": "Male",
                  "6": "132.31.53.61",
                  "7": "",
                  "8": "South Korea",
                  "9": "3/27/1992",
                  "10": "231067.84",
                  "11": "Software Test Engineer I",
                  "12": "1E+02"
                },
                {
                  "0": "2016-02-03 18:29:47",
                  "1": "10",
                  "2": "Emily",
                  "3": "Stewart",
                  "4": "estewart9@opensource.org",
                  "5": "Female",
                  "6": "143.28.251.245",
                  "7": "3574254110301671",
                  "8": "Nigeria",
                  "9": "1/28/1997",
                  "10": "27234.28",
                  "11": "Health Coach IV",
                  "12": ""
                }
              ],
              "schema": [
                {
                  "key": "0",
                  "name": "registration_dttm",
                  "type": "timestamp"
                },
                {
                  "key": "1",
                  "name": "id",
                  "type": "int"
                },
                {
                  "key": "2",
                  "name": "first_name",
                  "type": "string"
                },
                {
                  "key": "3",
                  "name": "last_name",
                  "type": "string"
                },
                {
                  "key": "4",
                  "name": "email",
                  "type": "string"
                },
                {
                  "key": "5",
                  "name": "gender",
                  "type": "string"
                },
                {
                  "key": "6",
                  "name": "ip_address",
                  "type": "string"
                },
                {
                  "key": "7",
                  "name": "cc",
                  "type": "string"
                },
                {
                  "key": "8",
                  "name": "country",
                  "type": "string"
                },
                {
                  "key": "9",
                  "name": "birthdate",
                  "type": "string"
                },
                {
                  "key": "10",
                  "name": "salary",
                  "type": "double"
                },
                {
                  "key": "11",
                  "name": "title",
                  "type": "string"
                },
                {
                  "key": "12",
                  "name": "comments",
                  "type": "string"
                }
              ],
              "truncated": false
            },
            "isSummary": false,
            "language": "scala"
          },
          "persist_state": {
            "view": {
              "type": "details",
              "tableOptions": {},
              "chartOptions": {
                "chartType": "bar",
                "aggregationType": "sum",
                "categoryFieldKeys": [
                  "0"
                ],
                "seriesFieldKeys": [
                  "1"
                ],
                "isStacked": false
              }
            }
          }
        }
      }
    }
  },
  "cells": [
    {
      "cell_type": "code",
      "execution_count": 1,
      "outputs": [
        {
          "output_type": "display_data",
          "data": {
            "application/vnd.livy.statement-meta+json": {
              "spark_pool": "SparkPoolTool",
              "session_id": 1,
              "statement_id": 1,
              "state": "finished",
              "livy_statement_state": "available",
              "queued_time": "2022-01-20T07:01:51.8645483Z",
              "session_start_time": "2022-01-20T07:01:51.9000963Z",
              "execution_start_time": "2022-01-20T07:02:42.8596944Z",
              "execution_finish_time": "2022-01-20T07:03:01.7478959Z"
            },
            "text/plain": "StatementMeta(SparkPoolTool, 1, 1, Finished, Available)"
          },
          "metadata": {}
        },
        {
          "output_type": "display_data",
          "data": {
            "application/vnd.synapse.widget-view+json": {
              "widget_id": "8fb2f9ec-914a-49f5-b5f0-2fe7c4aa1276",
              "widget_type": "Synapse.DataFrame"
            },
            "text/plain": "SynapseWidget(Synapse.DataFrame, 8fb2f9ec-914a-49f5-b5f0-2fe7c4aa1276)"
          },
          "metadata": {}
        }
      ],
      "metadata": {
        "collapsed": false
      },
      "source": [
        "%%pyspark\n",
        "blob_account_name = \"pavan0699\"\n",
        "blob_container_name = \"synapsedemo\"\n",
        "from pyspark.sql import SparkSession\n",
        "\n",
        "sc = SparkSession.builder.getOrCreate()\n",
        "token_library = sc._jvm.com.microsoft.azure.synapse.tokenlibrary.TokenLibrary\n",
        "blob_sas_token = token_library.getConnectionString(\"LinkedServiceForTrial\")\n",
        "\n",
        "spark.conf.set(\n",
        "    'fs.azure.sas.%s.%s.blob.core.windows.net' % (blob_container_name, blob_account_name),\n",
        "    blob_sas_token)\n",
        "df = spark.read.load('wasbs://synapsedemo@pavan0699.blob.core.windows.net/userdata1.parquet', format='parquet')\n",
        "display(df.limit(10))"
      ]
    },
    {
      "cell_type": "code",
      "execution_count": 2,
      "outputs": [
        {
          "output_type": "display_data",
          "data": {
            "application/vnd.livy.statement-meta+json": {
              "spark_pool": "SparkPoolTool",
              "session_id": 1,
              "statement_id": 2,
              "state": "finished",
              "livy_statement_state": "available",
              "queued_time": "2022-01-20T07:08:34.9832918Z",
              "session_start_time": null,
              "execution_start_time": "2022-01-20T07:08:35.1268992Z",
              "execution_finish_time": "2022-01-20T07:08:40.3942708Z"
            },
            "text/plain": "StatementMeta(SparkPoolTool, 1, 2, Finished, Available)"
          },
          "metadata": {}
        },
        {
          "output_type": "stream",
          "name": "stdout",
          "text": [
            "+-------------------+---+----------+---------+--------------------+------+---------------+-------------------+--------------------+----------+---------+--------------------+--------------------+\n|  registration_dttm| id|first_name|last_name|               email|gender|     ip_address|                 cc|             country| birthdate|   salary|               title|            comments|\n+-------------------+---+----------+---------+--------------------+------+---------------+-------------------+--------------------+----------+---------+--------------------+--------------------+\n|2016-02-03 07:55:29|  1|    Amanda|   Jordan|    ajordan0@com.com|Female|    1.197.201.2|   6759521864920116|           Indonesia|  3/8/1971| 49756.53|    Internal Auditor|               1E+02|\n|2016-02-03 17:04:03|  2|    Albert|  Freeman|     afreeman1@is.gd|  Male| 218.111.175.34|                   |              Canada| 1/16/1968|150280.17|       Accountant IV|                    |\n|2016-02-03 01:09:31|  3|    Evelyn|   Morgan|emorgan2@altervis...|Female|   7.161.136.94|   6767119071901597|              Russia|  2/1/1960|144972.51| Structural Engineer|                    |\n|2016-02-03 00:36:21|  4|    Denise|    Riley|    driley3@gmpg.org|Female|  140.35.109.83|   3576031598965625|               China|  4/8/1997| 90263.05|Senior Cost Accou...|                    |\n|2016-02-03 05:05:31|  5|    Carlos|    Burns|cburns4@miitbeian...|      | 169.113.235.40|   5602256255204850|        South Africa|          |     null|                    |                    |\n|2016-02-03 07:22:34|  6|   Kathryn|    White|  kwhite5@google.com|Female| 195.131.81.179|   3583136326049310|           Indonesia| 2/25/1983| 69227.11|   Account Executive|                    |\n|2016-02-03 08:33:08|  7|    Samuel|   Holmes|sholmes6@foxnews.com|  Male| 232.234.81.197|   3582641366974690|            Portugal|12/18/1987| 14247.62|Senior Financial ...|                    |\n|2016-02-03 06:47:06|  8|     Harry|   Howell| hhowell7@eepurl.com|  Male|   91.235.51.73|                   |Bosnia and Herzeg...|  3/1/1962|186469.43|    Web Developer IV|                    |\n|2016-02-03 03:52:53|  9|      Jose|   Foster|   jfoster8@yelp.com|  Male|   132.31.53.61|                   |         South Korea| 3/27/1992|231067.84|Software Test Eng...|               1E+02|\n|2016-02-03 18:29:47| 10|     Emily|  Stewart|estewart9@opensou...|Female| 143.28.251.245|   3574254110301671|             Nigeria| 1/28/1997| 27234.28|     Health Coach IV|                    |\n|2016-02-03 00:10:42| 11|     Susan|  Perkins| sperkinsa@patch.com|Female|    180.85.0.62|   3573823609854134|              Russia|          |210001.95|                    |                    |\n|2016-02-03 18:04:34| 12|     Alice|    Berry|aberryb@wikipedia...|Female| 246.225.12.189|   4917830851454417|               China| 8/12/1968| 22944.53|    Quality Engineer|                    |\n|2016-02-03 18:48:17| 13|    Justin|    Berry|jberryc@usatoday.com|  Male|   157.7.146.43|6331109912871813274|              Zambia| 8/15/1975| 44165.46|Structural Analys...|                    |\n|2016-02-03 21:46:52| 14|     Kathy| Reynolds|kreynoldsd@redcro...|Female|  81.254.172.13|   5537178462965976|Bosnia and Herzeg...| 6/27/1970|286592.99|           Librarian|                    |\n|2016-02-03 08:53:23| 15|   Dorothy|   Hudson|dhudsone@blogger.com|Female|       8.59.7.0|   3542586858224170|               Japan|12/20/1989|157099.71|  Nurse Practicioner|<script>alert('hi...|\n|2016-02-03 00:44:01| 16|     Bruce|   Willis|bwillisf@bluehost...|  Male|239.182.219.189|   3573030625927601|              Brazil|          |239100.65|                    |                    |\n|2016-02-03 00:57:45| 17|     Emily|  Andrews|eandrewsg@cornell...|Female| 29.231.180.172|     30271790537626|              Russia| 4/13/1990|116800.65|        Food Chemist|                    |\n|2016-02-03 16:44:24| 18|   Stephen|  Wallace|swallaceh@netvibe...|  Male|  152.49.213.62|   5433943468526428|             Ukraine| 1/15/1978|248877.99|Account Represent...|                    |\n|2016-02-03 11:45:54| 19|  Clarence|   Lawson|clawsoni@vkontakt...|  Male| 107.175.15.152|   3544052814080964|              Russia|          |177122.99|                    |                    |\n|2016-02-03 10:30:36| 20|   Rebecca|     Bell| rbellj@bandcamp.com|Female|172.215.104.127|                   |               China|          |137251.19|                    |                    |\n+-------------------+---+----------+---------+--------------------+------+---------------+-------------------+--------------------+----------+---------+--------------------+--------------------+\nonly showing top 20 rows"
          ]
        }
      ],
      "metadata": {
        "jupyter": {
          "source_hidden": false,
          "outputs_hidden": false
        },
        "nteract": {
          "transient": {
            "deleting": false
          }
        }
      },
      "source": [
        "df.show()"
      ]
    }
  ]
}